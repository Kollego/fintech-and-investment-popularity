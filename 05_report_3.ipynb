{
 "cells": [
  {
   "cell_type": "code",
   "execution_count": 27,
   "metadata": {},
   "outputs": [],
   "source": [
    "import pickle\n",
    "import pandas as pd\n",
    "import numpy as np"
   ]
  },
  {
   "cell_type": "code",
   "execution_count": 33,
   "metadata": {},
   "outputs": [],
   "source": [
    "with open('pickles/parsed_big_df.pickle', 'rb') as data:\n",
    "    df = pickle.load(data)"
   ]
  },
  {
   "cell_type": "code",
   "execution_count": 32,
   "metadata": {},
   "outputs": [],
   "source": [
    "with open('Pickles/tfidf.pickle', 'rb') as data:\n",
    "    tfidf = pickle.load(data)"
   ]
  },
  {
   "cell_type": "code",
   "execution_count": 31,
   "metadata": {},
   "outputs": [],
   "source": [
    "with open('models/best_rfc_fin.pickle', 'rb') as data:\n",
    "    rfc_fin = pickle.load(data)\n",
    "    \n",
    "with open('models/best_rfc_inv.pickle', 'rb') as data:\n",
    "    rfc_inv = pickle.load(data)"
   ]
  },
  {
   "cell_type": "code",
   "execution_count": 5,
   "metadata": {},
   "outputs": [
    {
     "data": {
      "text/html": [
       "<div>\n",
       "<style scoped>\n",
       "    .dataframe tbody tr th:only-of-type {\n",
       "        vertical-align: middle;\n",
       "    }\n",
       "\n",
       "    .dataframe tbody tr th {\n",
       "        vertical-align: top;\n",
       "    }\n",
       "\n",
       "    .dataframe thead th {\n",
       "        text-align: right;\n",
       "    }\n",
       "</style>\n",
       "<table border=\"1\" class=\"dataframe\">\n",
       "  <thead>\n",
       "    <tr style=\"text-align: right;\">\n",
       "      <th></th>\n",
       "      <th>id</th>\n",
       "      <th>url</th>\n",
       "      <th>dateRFC</th>\n",
       "      <th>date</th>\n",
       "      <th>title</th>\n",
       "      <th>intro</th>\n",
       "      <th>text</th>\n",
       "      <th>text_parsed</th>\n",
       "    </tr>\n",
       "  </thead>\n",
       "  <tbody>\n",
       "    <tr>\n",
       "      <th>0</th>\n",
       "      <td>2249</td>\n",
       "      <td>https://vc.ru/tribuna/2249-abrt3</td>\n",
       "      <td>Tue, 28 Jan 2014 15:46:00 +0400</td>\n",
       "      <td>1390909560</td>\n",
       "      <td>Анализ стартапов от ABRT: Hudway vs. XPages Dy...</td>\n",
       "      <td>Возрождаем забытую практику разбора стартапов ...</td>\n",
       "      <td>Возрождаем забытую практику разбора стартапов ...</td>\n",
       "      <td>анализ стартап abrt hudway xpages dynamic возр...</td>\n",
       "    </tr>\n",
       "    <tr>\n",
       "      <th>1</th>\n",
       "      <td>2626</td>\n",
       "      <td>https://vc.ru/flood/2626-riders</td>\n",
       "      <td>Mon, 27 Jan 2014 11:28:42 +0400</td>\n",
       "      <td>1390807722</td>\n",
       "      <td>RIDERS - глобальное комьюнити экстремалов</td>\n",
       "      <td>Игорь Дебатур и Анатолий Черняков рассказали п...</td>\n",
       "      <td>Игорь Дебатур и Анатолий Черняков рассказали п...</td>\n",
       "      <td>riders глобальный комьюнить экстремалов игорь ...</td>\n",
       "    </tr>\n",
       "    <tr>\n",
       "      <th>2</th>\n",
       "      <td>2657</td>\n",
       "      <td>https://vc.ru/flood/2657-evernote</td>\n",
       "      <td>Tue, 07 Jan 2014 12:31:05 +0400</td>\n",
       "      <td>1389083465</td>\n",
       "      <td>CEO Evernote покаялся и обещает новый дизайн с...</td>\n",
       "      <td>Фил Либин, основатель и CEO Evernote, признал ...</td>\n",
       "      <td>Фил Либин, основатель и CEO Evernote, признал ...</td>\n",
       "      <td>evernote покаяться обещать новый дизайн сервис...</td>\n",
       "    </tr>\n",
       "    <tr>\n",
       "      <th>3</th>\n",
       "      <td>2658</td>\n",
       "      <td>https://vc.ru/flood/2658-nvidia</td>\n",
       "      <td>Wed, 08 Jan 2014 15:07:20 +0400</td>\n",
       "      <td>1389179240</td>\n",
       "      <td>Nvidia показали стриминг с ПК на телевизор</td>\n",
       "      <td>Nvidia продемонстрировали на пресс-мероприятии...</td>\n",
       "      <td>Nvidia продемонстрировали на пресс-мероприятии...</td>\n",
       "      <td>nvidia показать стриминг телевизор nvidia прод...</td>\n",
       "    </tr>\n",
       "    <tr>\n",
       "      <th>4</th>\n",
       "      <td>2660</td>\n",
       "      <td>https://vc.ru/tribuna/2660-startup-tv-series</td>\n",
       "      <td>Wed, 08 Jan 2014 11:15:49 +0400</td>\n",
       "      <td>1389165349</td>\n",
       "      <td>Четыре шоу о стартапах, которые вы пропустили</td>\n",
       "      <td>Если вас тоже порядком напрягает истерия вокру...</td>\n",
       "      <td>Если вас тоже порядком напрягает истерия вокру...</td>\n",
       "      <td>четыре стартап который пропустить если тоже по...</td>\n",
       "    </tr>\n",
       "  </tbody>\n",
       "</table>\n",
       "</div>"
      ],
      "text/plain": [
       "     id                                           url  \\\n",
       "0  2249              https://vc.ru/tribuna/2249-abrt3   \n",
       "1  2626               https://vc.ru/flood/2626-riders   \n",
       "2  2657             https://vc.ru/flood/2657-evernote   \n",
       "3  2658               https://vc.ru/flood/2658-nvidia   \n",
       "4  2660  https://vc.ru/tribuna/2660-startup-tv-series   \n",
       "\n",
       "                           dateRFC        date  \\\n",
       "0  Tue, 28 Jan 2014 15:46:00 +0400  1390909560   \n",
       "1  Mon, 27 Jan 2014 11:28:42 +0400  1390807722   \n",
       "2  Tue, 07 Jan 2014 12:31:05 +0400  1389083465   \n",
       "3  Wed, 08 Jan 2014 15:07:20 +0400  1389179240   \n",
       "4  Wed, 08 Jan 2014 11:15:49 +0400  1389165349   \n",
       "\n",
       "                                               title  \\\n",
       "0  Анализ стартапов от ABRT: Hudway vs. XPages Dy...   \n",
       "1          RIDERS - глобальное комьюнити экстремалов   \n",
       "2  CEO Evernote покаялся и обещает новый дизайн с...   \n",
       "3         Nvidia показали стриминг с ПК на телевизор   \n",
       "4      Четыре шоу о стартапах, которые вы пропустили   \n",
       "\n",
       "                                               intro  \\\n",
       "0  Возрождаем забытую практику разбора стартапов ...   \n",
       "1  Игорь Дебатур и Анатолий Черняков рассказали п...   \n",
       "2  Фил Либин, основатель и CEO Evernote, признал ...   \n",
       "3  Nvidia продемонстрировали на пресс-мероприятии...   \n",
       "4  Если вас тоже порядком напрягает истерия вокру...   \n",
       "\n",
       "                                                text  \\\n",
       "0  Возрождаем забытую практику разбора стартапов ...   \n",
       "1  Игорь Дебатур и Анатолий Черняков рассказали п...   \n",
       "2  Фил Либин, основатель и CEO Evernote, признал ...   \n",
       "3  Nvidia продемонстрировали на пресс-мероприятии...   \n",
       "4  Если вас тоже порядком напрягает истерия вокру...   \n",
       "\n",
       "                                         text_parsed  \n",
       "0  анализ стартап abrt hudway xpages dynamic возр...  \n",
       "1  riders глобальный комьюнить экстремалов игорь ...  \n",
       "2  evernote покаяться обещать новый дизайн сервис...  \n",
       "3  nvidia показать стриминг телевизор nvidia прод...  \n",
       "4  четыре стартап который пропустить если тоже по...  "
      ]
     },
     "execution_count": 5,
     "metadata": {},
     "output_type": "execute_result"
    }
   ],
   "source": [
    "df.head()"
   ]
  },
  {
   "cell_type": "code",
   "execution_count": 39,
   "metadata": {},
   "outputs": [],
   "source": [
    "features = tfidf.fit_transform(df['text_parsed']).toarray()"
   ]
  },
  {
   "cell_type": "code",
   "execution_count": 40,
   "metadata": {},
   "outputs": [],
   "source": [
    "fin_pred = rfc_fin.predict(features)"
   ]
  },
  {
   "cell_type": "code",
   "execution_count": 41,
   "metadata": {},
   "outputs": [],
   "source": [
    "inv_pred = rfc_inv.predict(features)"
   ]
  },
  {
   "cell_type": "code",
   "execution_count": 43,
   "metadata": {},
   "outputs": [
    {
     "data": {
      "text/plain": [
       "(array([0, 1], dtype=int64), array([53535,  1287], dtype=int64))"
      ]
     },
     "execution_count": 43,
     "metadata": {},
     "output_type": "execute_result"
    }
   ],
   "source": [
    "np.unique(fin_pred, return_counts=True)"
   ]
  },
  {
   "cell_type": "code",
   "execution_count": 44,
   "metadata": {},
   "outputs": [
    {
     "data": {
      "text/plain": [
       "(array([0, 1], dtype=int64), array([54775,    47], dtype=int64))"
      ]
     },
     "execution_count": 44,
     "metadata": {},
     "output_type": "execute_result"
    }
   ],
   "source": [
    "np.unique(inv_pred, return_counts=True)"
   ]
  },
  {
   "cell_type": "code",
   "execution_count": null,
   "metadata": {},
   "outputs": [],
   "source": []
  }
 ],
 "metadata": {
  "kernelspec": {
   "display_name": "Python 3",
   "language": "python",
   "name": "python3"
  },
  "language_info": {
   "codemirror_mode": {
    "name": "ipython",
    "version": 3
   },
   "file_extension": ".py",
   "mimetype": "text/x-python",
   "name": "python",
   "nbconvert_exporter": "python",
   "pygments_lexer": "ipython3",
   "version": "3.7.2"
  }
 },
 "nbformat": 4,
 "nbformat_minor": 2
}
