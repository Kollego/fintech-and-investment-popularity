{
 "cells": [
  {
   "cell_type": "code",
   "execution_count": 3,
   "metadata": {},
   "outputs": [],
   "source": [
    "import pickle\n",
    "import pandas as pd\n",
    "import numpy as np\n",
    "from datetime import datetime"
   ]
  },
  {
   "cell_type": "code",
   "execution_count": 4,
   "metadata": {},
   "outputs": [],
   "source": [
    "with open('pickles/parsed_big_df.pickle', 'rb') as data:\n",
    "    df = pickle.load(data)"
   ]
  },
  {
   "cell_type": "code",
   "execution_count": 2,
   "metadata": {},
   "outputs": [
    {
     "ename": "NameError",
     "evalue": "name 'pickle' is not defined",
     "output_type": "error",
     "traceback": [
      "\u001b[1;31m---------------------------------------------------------------------------\u001b[0m",
      "\u001b[1;31mNameError\u001b[0m                                 Traceback (most recent call last)",
      "\u001b[1;32m<ipython-input-2-4b857266a0e6>\u001b[0m in \u001b[0;36m<module>\u001b[1;34m\u001b[0m\n\u001b[0;32m      1\u001b[0m \u001b[1;32mwith\u001b[0m \u001b[0mopen\u001b[0m\u001b[1;33m(\u001b[0m\u001b[1;34m'models/best_rfc_fin.pickle'\u001b[0m\u001b[1;33m,\u001b[0m \u001b[1;34m'rb'\u001b[0m\u001b[1;33m)\u001b[0m \u001b[1;32mas\u001b[0m \u001b[0mdata\u001b[0m\u001b[1;33m:\u001b[0m\u001b[1;33m\u001b[0m\u001b[1;33m\u001b[0m\u001b[0m\n\u001b[1;32m----> 2\u001b[1;33m     \u001b[0mrfc_fin\u001b[0m \u001b[1;33m=\u001b[0m \u001b[0mpickle\u001b[0m\u001b[1;33m.\u001b[0m\u001b[0mload\u001b[0m\u001b[1;33m(\u001b[0m\u001b[0mdata\u001b[0m\u001b[1;33m)\u001b[0m\u001b[1;33m\u001b[0m\u001b[1;33m\u001b[0m\u001b[0m\n\u001b[0m\u001b[0;32m      3\u001b[0m \u001b[1;33m\u001b[0m\u001b[0m\n\u001b[0;32m      4\u001b[0m \u001b[1;32mwith\u001b[0m \u001b[0mopen\u001b[0m\u001b[1;33m(\u001b[0m\u001b[1;34m'models/best_rfc_inv.pickle'\u001b[0m\u001b[1;33m,\u001b[0m \u001b[1;34m'rb'\u001b[0m\u001b[1;33m)\u001b[0m \u001b[1;32mas\u001b[0m \u001b[0mdata\u001b[0m\u001b[1;33m:\u001b[0m\u001b[1;33m\u001b[0m\u001b[1;33m\u001b[0m\u001b[0m\n\u001b[0;32m      5\u001b[0m     \u001b[0mrfc_inv\u001b[0m \u001b[1;33m=\u001b[0m \u001b[0mpickle\u001b[0m\u001b[1;33m.\u001b[0m\u001b[0mload\u001b[0m\u001b[1;33m(\u001b[0m\u001b[0mdata\u001b[0m\u001b[1;33m)\u001b[0m\u001b[1;33m\u001b[0m\u001b[1;33m\u001b[0m\u001b[0m\n",
      "\u001b[1;31mNameError\u001b[0m: name 'pickle' is not defined"
     ]
    }
   ],
   "source": [
    "with open('models/best_rfc_fin.pickle', 'rb') as data:\n",
    "    rfc_fin = pickle.load(data)\n",
    "    \n",
    "with open('models/best_rfc_inv.pickle', 'rb') as data:\n",
    "    rfc_inv = pickle.load(data)"
   ]
  },
  {
   "cell_type": "code",
   "execution_count": 5,
   "metadata": {},
   "outputs": [
    {
     "data": {
      "text/html": [
       "<div>\n",
       "<style scoped>\n",
       "    .dataframe tbody tr th:only-of-type {\n",
       "        vertical-align: middle;\n",
       "    }\n",
       "\n",
       "    .dataframe tbody tr th {\n",
       "        vertical-align: top;\n",
       "    }\n",
       "\n",
       "    .dataframe thead th {\n",
       "        text-align: right;\n",
       "    }\n",
       "</style>\n",
       "<table border=\"1\" class=\"dataframe\">\n",
       "  <thead>\n",
       "    <tr style=\"text-align: right;\">\n",
       "      <th></th>\n",
       "      <th>id</th>\n",
       "      <th>url</th>\n",
       "      <th>dateRFC</th>\n",
       "      <th>date</th>\n",
       "      <th>title</th>\n",
       "      <th>intro</th>\n",
       "      <th>text</th>\n",
       "      <th>text_parsed</th>\n",
       "    </tr>\n",
       "  </thead>\n",
       "  <tbody>\n",
       "    <tr>\n",
       "      <th>0</th>\n",
       "      <td>2249</td>\n",
       "      <td>https://vc.ru/tribuna/2249-abrt3</td>\n",
       "      <td>Tue, 28 Jan 2014 15:46:00 +0400</td>\n",
       "      <td>1390909560</td>\n",
       "      <td>Анализ стартапов от ABRT: Hudway vs. XPages Dy...</td>\n",
       "      <td>Возрождаем забытую практику разбора стартапов ...</td>\n",
       "      <td>Возрождаем забытую практику разбора стартапов ...</td>\n",
       "      <td>анализ стартап abrt hudway xpages dynamic возр...</td>\n",
       "    </tr>\n",
       "    <tr>\n",
       "      <th>1</th>\n",
       "      <td>2626</td>\n",
       "      <td>https://vc.ru/flood/2626-riders</td>\n",
       "      <td>Mon, 27 Jan 2014 11:28:42 +0400</td>\n",
       "      <td>1390807722</td>\n",
       "      <td>RIDERS - глобальное комьюнити экстремалов</td>\n",
       "      <td>Игорь Дебатур и Анатолий Черняков рассказали п...</td>\n",
       "      <td>Игорь Дебатур и Анатолий Черняков рассказали п...</td>\n",
       "      <td>riders глобальный комьюнить экстремалов игорь ...</td>\n",
       "    </tr>\n",
       "    <tr>\n",
       "      <th>2</th>\n",
       "      <td>2657</td>\n",
       "      <td>https://vc.ru/flood/2657-evernote</td>\n",
       "      <td>Tue, 07 Jan 2014 12:31:05 +0400</td>\n",
       "      <td>1389083465</td>\n",
       "      <td>CEO Evernote покаялся и обещает новый дизайн с...</td>\n",
       "      <td>Фил Либин, основатель и CEO Evernote, признал ...</td>\n",
       "      <td>Фил Либин, основатель и CEO Evernote, признал ...</td>\n",
       "      <td>evernote покаяться обещать новый дизайн сервис...</td>\n",
       "    </tr>\n",
       "    <tr>\n",
       "      <th>3</th>\n",
       "      <td>2658</td>\n",
       "      <td>https://vc.ru/flood/2658-nvidia</td>\n",
       "      <td>Wed, 08 Jan 2014 15:07:20 +0400</td>\n",
       "      <td>1389179240</td>\n",
       "      <td>Nvidia показали стриминг с ПК на телевизор</td>\n",
       "      <td>Nvidia продемонстрировали на пресс-мероприятии...</td>\n",
       "      <td>Nvidia продемонстрировали на пресс-мероприятии...</td>\n",
       "      <td>nvidia показать стриминг телевизор nvidia прод...</td>\n",
       "    </tr>\n",
       "    <tr>\n",
       "      <th>4</th>\n",
       "      <td>2660</td>\n",
       "      <td>https://vc.ru/tribuna/2660-startup-tv-series</td>\n",
       "      <td>Wed, 08 Jan 2014 11:15:49 +0400</td>\n",
       "      <td>1389165349</td>\n",
       "      <td>Четыре шоу о стартапах, которые вы пропустили</td>\n",
       "      <td>Если вас тоже порядком напрягает истерия вокру...</td>\n",
       "      <td>Если вас тоже порядком напрягает истерия вокру...</td>\n",
       "      <td>четыре стартап который пропустить если тоже по...</td>\n",
       "    </tr>\n",
       "  </tbody>\n",
       "</table>\n",
       "</div>"
      ],
      "text/plain": [
       "     id                                           url  \\\n",
       "0  2249              https://vc.ru/tribuna/2249-abrt3   \n",
       "1  2626               https://vc.ru/flood/2626-riders   \n",
       "2  2657             https://vc.ru/flood/2657-evernote   \n",
       "3  2658               https://vc.ru/flood/2658-nvidia   \n",
       "4  2660  https://vc.ru/tribuna/2660-startup-tv-series   \n",
       "\n",
       "                           dateRFC        date  \\\n",
       "0  Tue, 28 Jan 2014 15:46:00 +0400  1390909560   \n",
       "1  Mon, 27 Jan 2014 11:28:42 +0400  1390807722   \n",
       "2  Tue, 07 Jan 2014 12:31:05 +0400  1389083465   \n",
       "3  Wed, 08 Jan 2014 15:07:20 +0400  1389179240   \n",
       "4  Wed, 08 Jan 2014 11:15:49 +0400  1389165349   \n",
       "\n",
       "                                               title  \\\n",
       "0  Анализ стартапов от ABRT: Hudway vs. XPages Dy...   \n",
       "1          RIDERS - глобальное комьюнити экстремалов   \n",
       "2  CEO Evernote покаялся и обещает новый дизайн с...   \n",
       "3         Nvidia показали стриминг с ПК на телевизор   \n",
       "4      Четыре шоу о стартапах, которые вы пропустили   \n",
       "\n",
       "                                               intro  \\\n",
       "0  Возрождаем забытую практику разбора стартапов ...   \n",
       "1  Игорь Дебатур и Анатолий Черняков рассказали п...   \n",
       "2  Фил Либин, основатель и CEO Evernote, признал ...   \n",
       "3  Nvidia продемонстрировали на пресс-мероприятии...   \n",
       "4  Если вас тоже порядком напрягает истерия вокру...   \n",
       "\n",
       "                                                text  \\\n",
       "0  Возрождаем забытую практику разбора стартапов ...   \n",
       "1  Игорь Дебатур и Анатолий Черняков рассказали п...   \n",
       "2  Фил Либин, основатель и CEO Evernote, признал ...   \n",
       "3  Nvidia продемонстрировали на пресс-мероприятии...   \n",
       "4  Если вас тоже порядком напрягает истерия вокру...   \n",
       "\n",
       "                                         text_parsed  \n",
       "0  анализ стартап abrt hudway xpages dynamic возр...  \n",
       "1  riders глобальный комьюнить экстремалов игорь ...  \n",
       "2  evernote покаяться обещать новый дизайн сервис...  \n",
       "3  nvidia показать стриминг телевизор nvidia прод...  \n",
       "4  четыре стартап который пропустить если тоже по...  "
      ]
     },
     "execution_count": 5,
     "metadata": {},
     "output_type": "execute_result"
    }
   ],
   "source": [
    "df.head()"
   ]
  },
  {
   "cell_type": "code",
   "execution_count": 60,
   "metadata": {},
   "outputs": [],
   "source": [
    "# Parameter election\n",
    "ngram_range = (1, 1)\n",
    "min_df = 10\n",
    "max_df = 1.\n",
    "max_features = 8000\n",
    "\n",
    "tfidf = TfidfVectorizer(encoding='utf-8',\n",
    "                        ngram_range=ngram_range,\n",
    "                        stop_words=None,\n",
    "                        lowercase=False,\n",
    "                        max_df=max_df,\n",
    "                        min_df=min_df,\n",
    "                        max_features=max_features,\n",
    "                        norm='l2',\n",
    "                        sublinear_tf=True)\n",
    "\n",
    "features = tfidf.fit_transform(df['text_parsed']).toarray()\n",
    "\n",
    "# TF-IDF object\n",
    "with open('pickles/tfidf.pickle', 'wb') as output:\n",
    "    pickle.dump(tfidf, output)"
   ]
  },
  {
   "cell_type": "code",
   "execution_count": 1,
   "metadata": {},
   "outputs": [
    {
     "ename": "NameError",
     "evalue": "name 'rfc_fin' is not defined",
     "output_type": "error",
     "traceback": [
      "\u001b[1;31m---------------------------------------------------------------------------\u001b[0m",
      "\u001b[1;31mNameError\u001b[0m                                 Traceback (most recent call last)",
      "\u001b[1;32m<ipython-input-1-c90cb5e0635a>\u001b[0m in \u001b[0;36m<module>\u001b[1;34m\u001b[0m\n\u001b[1;32m----> 1\u001b[1;33m \u001b[0mfin_pred\u001b[0m \u001b[1;33m=\u001b[0m \u001b[0mrfc_fin\u001b[0m\u001b[1;33m.\u001b[0m\u001b[0mpredict\u001b[0m\u001b[1;33m(\u001b[0m\u001b[0mfeatures\u001b[0m\u001b[1;33m)\u001b[0m\u001b[1;33m\u001b[0m\u001b[1;33m\u001b[0m\u001b[0m\n\u001b[0m",
      "\u001b[1;31mNameError\u001b[0m: name 'rfc_fin' is not defined"
     ]
    }
   ],
   "source": [
    "fin_pred = rfc_fin.predict(features)"
   ]
  },
  {
   "cell_type": "code",
   "execution_count": 63,
   "metadata": {},
   "outputs": [],
   "source": [
    "inv_pred = rfc_inv.predict(features)"
   ]
  },
  {
   "cell_type": "code",
   "execution_count": 64,
   "metadata": {},
   "outputs": [
    {
     "data": {
      "text/plain": [
       "(array([0, 1], dtype=int64), array([53091,  1731], dtype=int64))"
      ]
     },
     "execution_count": 64,
     "metadata": {},
     "output_type": "execute_result"
    }
   ],
   "source": [
    "np.unique(fin_pred, return_counts=True)"
   ]
  },
  {
   "cell_type": "code",
   "execution_count": 65,
   "metadata": {},
   "outputs": [
    {
     "data": {
      "text/plain": [
       "(array([0, 1], dtype=int64), array([54198,   624], dtype=int64))"
      ]
     },
     "execution_count": 65,
     "metadata": {},
     "output_type": "execute_result"
    }
   ],
   "source": [
    "np.unique(inv_pred, return_counts=True)"
   ]
  },
  {
   "cell_type": "code",
   "execution_count": 66,
   "metadata": {},
   "outputs": [
    {
     "data": {
      "text/plain": [
       "TfidfVectorizer(analyzer='word', binary=False, decode_error='strict',\n",
       "                dtype=<class 'numpy.float64'>, encoding='utf-8',\n",
       "                input='content', lowercase=False, max_df=1.0, max_features=8000,\n",
       "                min_df=10, ngram_range=(1, 1), norm='l2', preprocessor=None,\n",
       "                smooth_idf=True, stop_words=None, strip_accents=None,\n",
       "                sublinear_tf=True, token_pattern='(?u)\\\\b\\\\w\\\\w+\\\\b',\n",
       "                tokenizer=None, use_idf=True, vocabulary=None)"
      ]
     },
     "execution_count": 66,
     "metadata": {},
     "output_type": "execute_result"
    }
   ],
   "source": [
    "tfidf"
   ]
  },
  {
   "cell_type": "code",
   "execution_count": 80,
   "metadata": {},
   "outputs": [],
   "source": [
    "fin = [0] * 72\n",
    "inv = [0] * 72\n",
    "total = [0] * 72\n",
    "for i in range(len(df)):\n",
    "    date = datetime.fromtimestamp(df.loc[i]['date'])\n",
    "    j = (date.year - 2014) * 12 + date.month - 1 \n",
    "    total[j] += 1\n",
    "    if fin_pred[i] == 1:\n",
    "        fin[j] += 1\n",
    "    if inv_pred[i] == 1:\n",
    "        inv[j] += 1        "
   ]
  },
  {
   "cell_type": "code",
   "execution_count": 85,
   "metadata": {},
   "outputs": [],
   "source": [
    "data = {'Total' : total, 'Fintech' : fin, 'Investment' : inv} "
   ]
  },
  {
   "cell_type": "code",
   "execution_count": 86,
   "metadata": {},
   "outputs": [],
   "source": [
    "out = pd.DataFrame(data) "
   ]
  },
  {
   "cell_type": "code",
   "execution_count": 87,
   "metadata": {},
   "outputs": [
    {
     "data": {
      "text/html": [
       "<div>\n",
       "<style scoped>\n",
       "    .dataframe tbody tr th:only-of-type {\n",
       "        vertical-align: middle;\n",
       "    }\n",
       "\n",
       "    .dataframe tbody tr th {\n",
       "        vertical-align: top;\n",
       "    }\n",
       "\n",
       "    .dataframe thead th {\n",
       "        text-align: right;\n",
       "    }\n",
       "</style>\n",
       "<table border=\"1\" class=\"dataframe\">\n",
       "  <thead>\n",
       "    <tr style=\"text-align: right;\">\n",
       "      <th></th>\n",
       "      <th>Total</th>\n",
       "      <th>Fintech</th>\n",
       "      <th>Investment</th>\n",
       "    </tr>\n",
       "  </thead>\n",
       "  <tbody>\n",
       "    <tr>\n",
       "      <th>0</th>\n",
       "      <td>192</td>\n",
       "      <td>2</td>\n",
       "      <td>0</td>\n",
       "    </tr>\n",
       "    <tr>\n",
       "      <th>1</th>\n",
       "      <td>216</td>\n",
       "      <td>4</td>\n",
       "      <td>0</td>\n",
       "    </tr>\n",
       "    <tr>\n",
       "      <th>2</th>\n",
       "      <td>254</td>\n",
       "      <td>2</td>\n",
       "      <td>1</td>\n",
       "    </tr>\n",
       "    <tr>\n",
       "      <th>3</th>\n",
       "      <td>318</td>\n",
       "      <td>9</td>\n",
       "      <td>2</td>\n",
       "    </tr>\n",
       "    <tr>\n",
       "      <th>4</th>\n",
       "      <td>295</td>\n",
       "      <td>8</td>\n",
       "      <td>8</td>\n",
       "    </tr>\n",
       "  </tbody>\n",
       "</table>\n",
       "</div>"
      ],
      "text/plain": [
       "   Total  Fintech  Investment\n",
       "0    192        2           0\n",
       "1    216        4           0\n",
       "2    254        2           1\n",
       "3    318        9           2\n",
       "4    295        8           8"
      ]
     },
     "execution_count": 87,
     "metadata": {},
     "output_type": "execute_result"
    }
   ],
   "source": [
    "out.head()"
   ]
  },
  {
   "cell_type": "code",
   "execution_count": 88,
   "metadata": {},
   "outputs": [],
   "source": [
    "out.to_csv('final.csv', sep=';')"
   ]
  },
  {
   "cell_type": "code",
   "execution_count": 5,
   "metadata": {},
   "outputs": [],
   "source": [
    "tot_res = [0] * 72\n",
    "fin_res = [0] * 72\n",
    "inv_res = [0] * 72\n",
    "words_tf_fin = ['финтех', 'криптовалюта', 'блокчейн', 'краудфандинг']\n",
    "words_tf_fin_p = [('инвестиция','стартап'),('инвестиция', 'финтех'),('онлайн', 'банк'), ('финансовый', 'рынок')]\n",
    "words_tf_inv = [('венчурный', 'капитал'), ('венчурный', 'финансирование')]\n",
    "for i in range(len(df)):\n",
    "    date = datetime.fromtimestamp(df.loc[i]['date'])\n",
    "    j = (date.year - 2014) * 12 + date.month - 1 \n",
    "    tot_res[j] += 1\n",
    "    f = False\n",
    "    for w in words_tf_fin:\n",
    "        if df.loc[i]['text_parsed'].find(w) != -1:\n",
    "            f = True\n",
    "            fin_res[j] += 1\n",
    "            break\n",
    "    if f == False:    \n",
    "        for w1, w2 in words_tf_fin_p:\n",
    "            if df.loc[i]['text_parsed'].find(w1) != -1 and df.loc[i]['text_parsed'].find(w2) != -1:\n",
    "                fin_res[j] += 1\n",
    "                break\n",
    "    for w1, w2 in words_tf_inv:\n",
    "            if df.loc[i]['text_parsed'].find(w1) != -1 and df.loc[i]['text_parsed'].find(w2) != -1:\n",
    "                inv_res[j] += 1\n",
    "                break"
   ]
  },
  {
   "cell_type": "code",
   "execution_count": 6,
   "metadata": {},
   "outputs": [],
   "source": [
    "data = {'Total' : tot_res, 'Fintech' : fin_res, 'Investment': inv_res} "
   ]
  },
  {
   "cell_type": "code",
   "execution_count": 7,
   "metadata": {},
   "outputs": [],
   "source": [
    "out = pd.DataFrame(data) "
   ]
  },
  {
   "cell_type": "code",
   "execution_count": 8,
   "metadata": {},
   "outputs": [],
   "source": [
    "out.to_csv('vc_key_words.csv', sep=';')"
   ]
  }
 ],
 "metadata": {
  "kernelspec": {
   "display_name": "Python 3",
   "language": "python",
   "name": "python3"
  },
  "language_info": {
   "codemirror_mode": {
    "name": "ipython",
    "version": 3
   },
   "file_extension": ".py",
   "mimetype": "text/x-python",
   "name": "python",
   "nbconvert_exporter": "python",
   "pygments_lexer": "ipython3",
   "version": "3.7.2"
  }
 },
 "nbformat": 4,
 "nbformat_minor": 2
}
