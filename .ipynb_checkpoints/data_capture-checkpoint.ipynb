{
 "cells": [
  {
   "cell_type": "code",
   "execution_count": 3,
   "metadata": {},
   "outputs": [],
   "source": [
    "import json\n",
    "import requests\n",
    "import re\n",
    "from os.path import join\n",
    "from datetime import datetime\n",
    "import progressbar"
   ]
  },
  {
   "cell_type": "code",
   "execution_count": 10,
   "metadata": {},
   "outputs": [],
   "source": [
    "# Parsing of post\n",
    "def parse_post(post):\n",
    "    output_post = {}\n",
    "    output_post['id'] = post['id']\n",
    "    output_post['url'] = post['url']\n",
    "    output_post['dateRFC'] = post['dateRFC']\n",
    "    output_post['date'] = post['date']\n",
    "    output_post['title'] = post['title']\n",
    "    output_post['intro'] = post['intro']\n",
    "    text = ''\n",
    "    \n",
    "    # Собираем текст в одно целое\n",
    "    for block in post['blocks']:\n",
    "        if block['type'] == 'text' or block['type'] == 'quote':\n",
    "            text += block['data']['text'] + ' '\n",
    "        if block['type'] == 'list':\n",
    "            text += ' '.join(block['data']['items']) + ' '\n",
    "        if block['type'] == 'rawhtml':\n",
    "            text += cleanhtml(block['data']['raw']) + ' '\n",
    "    text = text.replace('[','', -1)\n",
    "    text = text.replace(']','', -1)\n",
    "    text = text.replace(\"\\r\", \" \")\n",
    "    text = text.replace(\"\\n\", \" \")\n",
    "    text = text.replace(\"\\t\", \" \")\n",
    "    text = text.replace(\"&nbsp\", \" \")\n",
    "    text = text.replace(\"    \", \" \")\n",
    "    output_post['text'] = re.sub(r'\\(http\\S+\\)', '', text, flags=re.MULTILINE)\n",
    "    return output_post\n",
    "\n",
    "def save_post_to_json(path, post):\n",
    "    name = 'post' + str(post['id']) + '.json'\n",
    "    with open(join(path, name), 'w', encoding='utf-8') as output:\n",
    "        json.dump(post, output, indent=4, ensure_ascii=False)\n",
    "        \n",
    "def cleanhtml(raw_html):\n",
    "    cleanr = re.compile('<.*?>|&([a-z0-9]+|#[0-9]{1,6}|#x[0-9a-f]{1,6});')\n",
    "    cleantext = re.sub(cleanr, '', raw_html)\n",
    "    return cleantext"
   ]
  },
  {
   "cell_type": "code",
   "execution_count": 169,
   "metadata": {},
   "outputs": [
    {
     "name": "stderr",
     "output_type": "stream",
     "text": [
      "100% |########################################################################|\n"
     ]
    }
   ],
   "source": [
    "bar = progressbar.ProgressBar(maxval=3950).start()\n",
    "# 3290 - 59400 offset\n",
    "for offset in range(3200, 3950, 50):\n",
    "    req_url = 'https://api.vc.ru/v1.8/timeline/index/recent?count=50&offset=' + str(offset)\n",
    "    request = requests.get(req_url)\n",
    "    data = json.loads(request.text)\n",
    "    bar.update(offset)\n",
    "    for item in data['result']:\n",
    "        post = parse_post(item)\n",
    "        date = datetime.fromtimestamp(post['date'])\n",
    "        if date.year < 2020 and date.year > 2013 and len(post['text']) > 400:\n",
    "            save_post_to_json(join('D:\\\\some stuff\\\\fin_and_inv', str(date.year)), post)\n",
    "    \n",
    "bar.finish()"
   ]
  },
  {
   "cell_type": "code",
   "execution_count": 15,
   "metadata": {},
   "outputs": [],
   "source": [
    "#req_url = 'https://api.vc.ru/v1.8/timeline/index/recent?count=1&offset=' + str(57000)\n",
    "req_url = 'https://api.vc.ru/v1.8/entry/53101'\n",
    "request = requests.get(req_url)\n",
    "\n",
    "data = json.loads(request.text)\n",
    "item = data['result']\n",
    "post = parse_post(item)\n",
    "save_post_to_json(join('D:\\\\some stuff\\\\fin_and_inv'), post)      "
   ]
  },
  {
   "cell_type": "code",
   "execution_count": 185,
   "metadata": {},
   "outputs": [
    {
     "name": "stdout",
     "output_type": "stream",
     "text": [
      "{'id': 96660, 'url': 'https://vc.ru/food/96660-issledovanie-yandeks-eda-oboshla-po-uznavaemosti-drugie-servisy-dostavki-edy-no-delivery-club-polzuyutsya-chashche', 'dateRFC': 'Tue, 10 Dec 2019 16:28:27 +0300', 'date': 1575984507, 'title': 'Исследование: «Яндекс.Еда» обошла по узнаваемости другие сервисы доставки еды, но Delivery Club пользуются чаще', 'intro': 'Средний чек на человека у 43% респондентов составляет 300-500 рублей.', 'text': 'Средний чек на человека у 43% респондентов составляет 300-500 рублей. «Яндекс.Еда» — самый узнаваемый сервис доставки еды среди пользователей. К такому выводу пришла исследовательская компания OMI по результатам опроса, рассказал vc.ru её представитель. Компания опросила трёх тысяч респондентов, которые живут в городах с населением более 1 млн человек. Почти половина опрошенных (49%) назвали «Яндекс.Еду» самым узнаваемым сервисом. На втором месте — Delivery Club (31%). Ещё 5% назвали «Додо Пиццу» и 2% — петербургский сервис «Dostaeвский». Однако 43% опрошенных чаще всего пользуются услугами Delivery Club, «Яндекс.Едой» — 37%, «Додо Пиццей» — 30%. Жители столицы предпочитают Delivery Club в 47% случаев, а «Яндекс.Еду» — в 44%. В Санкт-Петербурге Delivery Club выбирают 43% респондентов, «Яндекс.Еду» — 29%. Сервис от «Яндекса» опережает конкурента в Уральском ФО — 39% против 31%. Респонденты оценили скорость доставки «Яндекс.Еды» в среднем на 3,9 по пятибалльной шкале, а скорость Delivery Club и Domino’s Pizza на 3,7 балла. Лидерами по качеству поддержки пользователей оказались «Якитория» и Dostaевский — высший балл им поставили 88% и 85% респондентов соответственно. Качество поддержки «Яндекс.Еды» высоко оценили 83% опрошенных, Delivery Club — 82%. 65% опрошенных жителей городов-миллионников хотя бы раз за последние три месяца пользовались сервисами доставки еды. Они предпочитают приложения агрегаторов чаще, чем моно-доставок. Чаще всего рекламу и спам, по мнению опрошенных, присылает Delivery Club. Средняя сумма заказа на человека у 43% респондентов составляет 300-500 рублей, а в Москве — 500-700 рублей у 36%. \\\\#новость '}\n"
     ]
    }
   ],
   "source": [
    "with open('D:\\\\some stuff\\\\fin_and_inv\\\\2019\\\\post96660.json', encoding='utf-8') as f:\n",
    "    r = json.load(f)\n",
    "    print(r)"
   ]
  }
 ],
 "metadata": {
  "kernelspec": {
   "display_name": "Python 3",
   "language": "python",
   "name": "python3"
  },
  "language_info": {
   "codemirror_mode": {
    "name": "ipython",
    "version": 3
   },
   "file_extension": ".py",
   "mimetype": "text/x-python",
   "name": "python",
   "nbconvert_exporter": "python",
   "pygments_lexer": "ipython3",
   "version": "3.7.2"
  }
 },
 "nbformat": 4,
 "nbformat_minor": 2
}
